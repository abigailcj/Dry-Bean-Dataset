{
 "cells": [
  {
   "cell_type": "markdown",
   "id": "d9165cd1",
   "metadata": {},
   "source": [
    "# Lulu and Bea's Hw3"
   ]
  },
  {
   "cell_type": "code",
   "execution_count": 68,
   "id": "15e019e8",
   "metadata": {},
   "outputs": [],
   "source": [
    "import pandas as pd\n",
    "import numpy as np\n",
    "import matplotlib.pyplot as plt\n",
    "import seaborn as sns\n",
    "from sklearn.svm import SVC\n",
    "from sklearn.metrics import confusion_matrix, classification_report\n",
    "from sklearn import preprocessing as sk_preprocessing\n",
    "from sklearn.model_selection import train_test_split"
   ]
  },
  {
   "cell_type": "code",
   "execution_count": 69,
   "id": "79ee9856",
   "metadata": {},
   "outputs": [],
   "source": [
    "file_path = './seeds_dataset.txt'\n",
    "column_names = ['area', 'parameters', 'compactness', 'length_of_kernel', 'width_of_kernel', 'asymmetry_coefficient', 'length_of_kernel_groove', 'class']\n",
    "df = pd.read_csv(file_path, sep=r'\\s+', names=column_names, header=None)"
   ]
  },
  {
   "cell_type": "code",
   "execution_count": 70,
   "id": "f0fa549c",
   "metadata": {},
   "outputs": [
    {
     "data": {
      "text/html": [
       "<div>\n",
       "<style scoped>\n",
       "    .dataframe tbody tr th:only-of-type {\n",
       "        vertical-align: middle;\n",
       "    }\n",
       "\n",
       "    .dataframe tbody tr th {\n",
       "        vertical-align: top;\n",
       "    }\n",
       "\n",
       "    .dataframe thead th {\n",
       "        text-align: right;\n",
       "    }\n",
       "</style>\n",
       "<table border=\"1\" class=\"dataframe\">\n",
       "  <thead>\n",
       "    <tr style=\"text-align: right;\">\n",
       "      <th></th>\n",
       "      <th>area</th>\n",
       "      <th>parameters</th>\n",
       "      <th>compactness</th>\n",
       "      <th>length_of_kernel</th>\n",
       "      <th>width_of_kernel</th>\n",
       "      <th>asymmetry_coefficient</th>\n",
       "      <th>length_of_kernel_groove</th>\n",
       "      <th>class</th>\n",
       "    </tr>\n",
       "  </thead>\n",
       "  <tbody>\n",
       "    <tr>\n",
       "      <th>0</th>\n",
       "      <td>15.26</td>\n",
       "      <td>14.84</td>\n",
       "      <td>0.8710</td>\n",
       "      <td>5.763</td>\n",
       "      <td>3.312</td>\n",
       "      <td>2.221</td>\n",
       "      <td>5.220</td>\n",
       "      <td>1</td>\n",
       "    </tr>\n",
       "    <tr>\n",
       "      <th>1</th>\n",
       "      <td>14.88</td>\n",
       "      <td>14.57</td>\n",
       "      <td>0.8811</td>\n",
       "      <td>5.554</td>\n",
       "      <td>3.333</td>\n",
       "      <td>1.018</td>\n",
       "      <td>4.956</td>\n",
       "      <td>1</td>\n",
       "    </tr>\n",
       "    <tr>\n",
       "      <th>2</th>\n",
       "      <td>14.29</td>\n",
       "      <td>14.09</td>\n",
       "      <td>0.9050</td>\n",
       "      <td>5.291</td>\n",
       "      <td>3.337</td>\n",
       "      <td>2.699</td>\n",
       "      <td>4.825</td>\n",
       "      <td>1</td>\n",
       "    </tr>\n",
       "    <tr>\n",
       "      <th>3</th>\n",
       "      <td>13.84</td>\n",
       "      <td>13.94</td>\n",
       "      <td>0.8955</td>\n",
       "      <td>5.324</td>\n",
       "      <td>3.379</td>\n",
       "      <td>2.259</td>\n",
       "      <td>4.805</td>\n",
       "      <td>1</td>\n",
       "    </tr>\n",
       "    <tr>\n",
       "      <th>4</th>\n",
       "      <td>16.14</td>\n",
       "      <td>14.99</td>\n",
       "      <td>0.9034</td>\n",
       "      <td>5.658</td>\n",
       "      <td>3.562</td>\n",
       "      <td>1.355</td>\n",
       "      <td>5.175</td>\n",
       "      <td>1</td>\n",
       "    </tr>\n",
       "  </tbody>\n",
       "</table>\n",
       "</div>"
      ],
      "text/plain": [
       "    area  parameters  compactness  length_of_kernel  width_of_kernel  \\\n",
       "0  15.26       14.84       0.8710             5.763            3.312   \n",
       "1  14.88       14.57       0.8811             5.554            3.333   \n",
       "2  14.29       14.09       0.9050             5.291            3.337   \n",
       "3  13.84       13.94       0.8955             5.324            3.379   \n",
       "4  16.14       14.99       0.9034             5.658            3.562   \n",
       "\n",
       "   asymmetry_coefficient  length_of_kernel_groove  class  \n",
       "0                  2.221                    5.220      1  \n",
       "1                  1.018                    4.956      1  \n",
       "2                  2.699                    4.825      1  \n",
       "3                  2.259                    4.805      1  \n",
       "4                  1.355                    5.175      1  "
      ]
     },
     "execution_count": 70,
     "metadata": {},
     "output_type": "execute_result"
    }
   ],
   "source": [
    "df.head()"
   ]
  },
  {
   "cell_type": "code",
   "execution_count": 71,
   "id": "1dd190c5",
   "metadata": {},
   "outputs": [
    {
     "data": {
      "text/plain": [
       "(210, 8)"
      ]
     },
     "execution_count": 71,
     "metadata": {},
     "output_type": "execute_result"
    }
   ],
   "source": [
    "df.shape"
   ]
  },
  {
   "cell_type": "code",
   "execution_count": 72,
   "id": "5cb5286d",
   "metadata": {},
   "outputs": [
    {
     "name": "stdout",
     "output_type": "stream",
     "text": [
      "<class 'pandas.core.frame.DataFrame'>\n",
      "RangeIndex: 210 entries, 0 to 209\n",
      "Data columns (total 8 columns):\n",
      " #   Column                   Non-Null Count  Dtype  \n",
      "---  ------                   --------------  -----  \n",
      " 0   area                     210 non-null    float64\n",
      " 1   parameters               210 non-null    float64\n",
      " 2   compactness              210 non-null    float64\n",
      " 3   length_of_kernel         210 non-null    float64\n",
      " 4   width_of_kernel          210 non-null    float64\n",
      " 5   asymmetry_coefficient    210 non-null    float64\n",
      " 6   length_of_kernel_groove  210 non-null    float64\n",
      " 7   class                    210 non-null    int64  \n",
      "dtypes: float64(7), int64(1)\n",
      "memory usage: 13.3 KB\n"
     ]
    }
   ],
   "source": [
    "df.info()"
   ]
  },
  {
   "cell_type": "code",
   "execution_count": 73,
   "id": "d361b838",
   "metadata": {},
   "outputs": [],
   "source": [
    "classes = df['class'].unique()\n",
    "\n",
    "train_frames = []\n",
    "test_frames = []\n",
    "\n",
    "for cls in classes:\n",
    "    \n",
    "    class_subset = df[df['class'] == cls]\n",
    "    \n",
    "    class_subset = class_subset.sample(frac=1).reset_index(drop=True)\n",
    "\n",
    "    train_frames.append(class_subset.iloc[:50])\n",
    "    test_frames.append(class_subset.iloc[50:70])\n",
    "\n",
    "train_df = pd.concat(train_frames).reset_index(drop=True)\n",
    "test_df = pd.concat(test_frames).reset_index(drop=True)\n",
    "\n",
    "train_df = train_df.sample(frac=1).reset_index(drop=True)\n",
    "test_df = test_df.sample(frac=1).reset_index(drop=True)\n",
    "\n",
    "X_train = train_df.drop('class', axis=1)\n",
    "y_train = train_df['class']\n",
    "X_test = test_df.drop('class', axis=1)\n",
    "y_test = test_df['class']"
   ]
  },
  {
   "cell_type": "code",
   "execution_count": 74,
   "id": "f791fb27",
   "metadata": {},
   "outputs": [
    {
     "data": {
      "text/plain": [
       "(150, 7)"
      ]
     },
     "execution_count": 74,
     "metadata": {},
     "output_type": "execute_result"
    }
   ],
   "source": [
    "X_train.shape"
   ]
  },
  {
   "cell_type": "code",
   "execution_count": 75,
   "id": "079e4141",
   "metadata": {},
   "outputs": [
    {
     "data": {
      "text/plain": [
       "(60, 7)"
      ]
     },
     "execution_count": 75,
     "metadata": {},
     "output_type": "execute_result"
    }
   ],
   "source": [
    "X_test.shape"
   ]
  },
  {
   "cell_type": "code",
   "execution_count": 76,
   "id": "3e2cbd63",
   "metadata": {},
   "outputs": [],
   "source": [
    "scaler = sk_preprocessing.StandardScaler()\n",
    "scaler.fit(X_train)\n",
    "X_train = scaler.transform(X_train)\n",
    "X_test = scaler.transform(X_test)"
   ]
  },
  {
   "cell_type": "code",
   "execution_count": 77,
   "id": "63b12091",
   "metadata": {},
   "outputs": [
    {
     "name": "stdout",
     "output_type": "stream",
     "text": [
      "[[18  2  0]\n",
      " [ 1 19  0]\n",
      " [ 0  0 20]]\n",
      "              precision    recall  f1-score   support\n",
      "\n",
      "           1       0.95      0.90      0.92        20\n",
      "           2       0.90      0.95      0.93        20\n",
      "           3       1.00      1.00      1.00        20\n",
      "\n",
      "    accuracy                           0.95        60\n",
      "   macro avg       0.95      0.95      0.95        60\n",
      "weighted avg       0.95      0.95      0.95        60\n",
      "\n"
     ]
    }
   ],
   "source": [
    "svc = SVC()\n",
    "svc.fit(X_train, y_train.values.ravel())\n",
    "y_pred = svc.predict(X_test)\n",
    "print(confusion_matrix(y_test, y_pred))\n",
    "print(classification_report(y_test, y_pred))"
   ]
  },
  {
   "cell_type": "code",
   "execution_count": 78,
   "id": "6d36e8f1",
   "metadata": {},
   "outputs": [
    {
     "name": "stdout",
     "output_type": "stream",
     "text": [
      "Accuracy: 0.95\n"
     ]
    }
   ],
   "source": [
    "from sklearn.metrics import accuracy_score\n",
    "\n",
    "accuracy = accuracy_score(y_test, y_pred)\n",
    "print(\"Accuracy:\", accuracy)"
   ]
  },
  {
   "cell_type": "code",
   "execution_count": 79,
   "id": "06d2d31e",
   "metadata": {},
   "outputs": [
    {
     "name": "stdout",
     "output_type": "stream",
     "text": [
      "Testing Error is: 0.050000000000000044\n"
     ]
    }
   ],
   "source": [
    "def accuracy(confusion_matrix):\n",
    "\n",
    "    diagonal_sum = confusion_matrix.trace()\n",
    "    sum_of_all_elements = confusion_matrix.sum()\n",
    "    return diagonal_sum / sum_of_all_elements\n",
    "\n",
    "svc.fit(X_train, y_train.values.ravel())\n",
    "y_pred = svc.predict(X_test)\n",
    "cm = confusion_matrix(y_test, y_pred)\n",
    "accuracy_value = accuracy(cm)\n",
    "testing_error = 1 - accuracy_value\n",
    "print(\"Testing Error is:\", testing_error)"
   ]
  },
  {
   "cell_type": "code",
   "execution_count": 80,
   "id": "cdc557b4",
   "metadata": {},
   "outputs": [
    {
     "name": "stdout",
     "output_type": "stream",
     "text": [
      "Linear SVM Accuracy: 0.9166666666666666\n",
      "Linear SVM Classification Report:\n",
      "               precision    recall  f1-score   support\n",
      "\n",
      "           1       0.89      0.85      0.87        20\n",
      "           2       0.90      0.90      0.90        20\n",
      "           3       0.95      1.00      0.98        20\n",
      "\n",
      "    accuracy                           0.92        60\n",
      "   macro avg       0.92      0.92      0.92        60\n",
      "weighted avg       0.92      0.92      0.92        60\n",
      "\n",
      "Linear SVM Confusion Matrix:\n",
      " [[17  2  1]\n",
      " [ 2 18  0]\n",
      " [ 0  0 20]]\n",
      "\n",
      "Non-linear SVM Accuracy: 0.95\n",
      "Non-linear SVM Classification Report:\n",
      "               precision    recall  f1-score   support\n",
      "\n",
      "           1       0.95      0.90      0.92        20\n",
      "           2       0.90      0.95      0.93        20\n",
      "           3       1.00      1.00      1.00        20\n",
      "\n",
      "    accuracy                           0.95        60\n",
      "   macro avg       0.95      0.95      0.95        60\n",
      "weighted avg       0.95      0.95      0.95        60\n",
      "\n",
      "Non-linear SVM Confusion Matrix:\n",
      " [[18  2  0]\n",
      " [ 1 19  0]\n",
      " [ 0  0 20]]\n"
     ]
    }
   ],
   "source": [
    "from sklearn.svm import SVC\n",
    "from sklearn.metrics import accuracy_score, classification_report, confusion_matrix\n",
    "\n",
    "# Train SVM with Linear Kernel\n",
    "linear_svc = SVC(kernel='linear')\n",
    "linear_svc.fit(X_train, y_train)\n",
    "linear_y_pred = linear_svc.predict(X_test)\n",
    "\n",
    "# Train SVM with Non-linear Kernel (e.g., RBF kernel)\n",
    "non_linear_svc = SVC(kernel='rbf')\n",
    "non_linear_svc.fit(X_train, y_train)\n",
    "non_linear_y_pred = non_linear_svc.predict(X_test)\n",
    "\n",
    "# Evaluate Linear SVM\n",
    "linear_accuracy = accuracy_score(y_test, linear_y_pred)\n",
    "linear_report = classification_report(y_test, linear_y_pred)\n",
    "linear_cm = confusion_matrix(y_test, linear_y_pred)\n",
    "\n",
    "# Evaluate Non-linear SVM\n",
    "non_linear_accuracy = accuracy_score(y_test, non_linear_y_pred)\n",
    "non_linear_report = classification_report(y_test, non_linear_y_pred)\n",
    "non_linear_cm = confusion_matrix(y_test, non_linear_y_pred)\n",
    "\n",
    "# Print or visualize the evaluation results\n",
    "print(\"Linear SVM Accuracy:\", linear_accuracy)\n",
    "print(\"Linear SVM Classification Report:\\n\", linear_report)\n",
    "print(\"Linear SVM Confusion Matrix:\\n\", linear_cm)\n",
    "\n",
    "print(\"\\nNon-linear SVM Accuracy:\", non_linear_accuracy)\n",
    "print(\"Non-linear SVM Classification Report:\\n\", non_linear_report)\n",
    "print(\"Non-linear SVM Confusion Matrix:\\n\", non_linear_cm)\n"
   ]
  },
  {
   "cell_type": "code",
   "execution_count": null,
   "id": "604b02d1",
   "metadata": {},
   "outputs": [],
   "source": []
  }
 ],
 "metadata": {
  "kernelspec": {
   "display_name": "Python 3 (ipykernel)",
   "language": "python",
   "name": "python3"
  },
  "language_info": {
   "codemirror_mode": {
    "name": "ipython",
    "version": 3
   },
   "file_extension": ".py",
   "mimetype": "text/x-python",
   "name": "python",
   "nbconvert_exporter": "python",
   "pygments_lexer": "ipython3",
   "version": "3.11.5"
  }
 },
 "nbformat": 4,
 "nbformat_minor": 5
}
